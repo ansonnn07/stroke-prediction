{
 "cells": [
  {
   "cell_type": "markdown",
   "metadata": {},
   "source": [
    "# Setup"
   ]
  },
  {
   "cell_type": "code",
   "execution_count": 1,
   "metadata": {},
   "outputs": [],
   "source": [
    "# Load necessary libraries\n",
    "import pandas as pd\n",
    "import matplotlib.pyplot as plt\n",
    "import matplotlib as mpl\n",
    "%matplotlib inline\n",
    "import seaborn as sns\n",
    "import numpy as np\n",
    "from sklearn import preprocessing\n",
    "\n",
    "# Enable multiple cell outputs\n",
    "from IPython.core.interactiveshell import InteractiveShell\n",
    "InteractiveShell.ast_node_interactivity = 'last'"
   ]
  },
  {
   "cell_type": "code",
   "execution_count": 2,
   "metadata": {},
   "outputs": [],
   "source": [
    "# setting some visualization parameters\n",
    "plt.style.use('seaborn')\n",
    "mpl.rcParams['figure.figsize'] = (8, 8)\n",
    "plt.rcParams['axes.labelsize'] = 15\n",
    "plt.rcParams['xtick.labelsize'] = 12\n",
    "plt.rcParams['ytick.labelsize'] = 12"
   ]
  },
  {
   "cell_type": "code",
   "execution_count": 3,
   "metadata": {},
   "outputs": [],
   "source": [
    "def load_preprocess_df():\n",
    "    df = pd.read_csv('stroke_det_cat.csv')\n",
    "    cats = list(df.select_dtypes(include=['object', 'category']).columns)\n",
    "    nums = list(df.select_dtypes(exclude=['object', 'category']).columns)\n",
    "    \n",
    "    features_to_conv = ['bmi_range', 'hypertension', 'heart_disease', 'stroke']\n",
    "    cats.extend(features_to_conv)\n",
    "    for feature in features_to_conv:\n",
    "        if feature in nums:\n",
    "            nums.remove(feature)\n",
    "    print(f'Categorical variables:  {cats}')\n",
    "    print(f'Numerical variables:  {nums}')\n",
    "    df = df.astype({i: 'category' for i in cats})\n",
    "    df = pd.concat([df[cats], df[nums]], axis=1)\n",
    "    return df"
   ]
  },
  {
   "cell_type": "code",
   "execution_count": 4,
   "metadata": {},
   "outputs": [
    {
     "name": "stdout",
     "output_type": "stream",
     "text": [
      "Categorical variables:  ['gender', 'ever_married', 'work_type', 'Residence_type', 'smoking_status', 'bmi_range', 'hypertension', 'heart_disease', 'stroke']\n",
      "Numerical variables:  ['age', 'avg_glucose_level', 'bmi']\n"
     ]
    },
    {
     "data": {
      "text/html": [
       "<div>\n",
       "<style scoped>\n",
       "    .dataframe tbody tr th:only-of-type {\n",
       "        vertical-align: middle;\n",
       "    }\n",
       "\n",
       "    .dataframe tbody tr th {\n",
       "        vertical-align: top;\n",
       "    }\n",
       "\n",
       "    .dataframe thead th {\n",
       "        text-align: right;\n",
       "    }\n",
       "</style>\n",
       "<table border=\"1\" class=\"dataframe\">\n",
       "  <thead>\n",
       "    <tr style=\"text-align: right;\">\n",
       "      <th></th>\n",
       "      <th>gender</th>\n",
       "      <th>ever_married</th>\n",
       "      <th>work_type</th>\n",
       "      <th>Residence_type</th>\n",
       "      <th>smoking_status</th>\n",
       "      <th>bmi_range</th>\n",
       "      <th>hypertension</th>\n",
       "      <th>heart_disease</th>\n",
       "      <th>stroke</th>\n",
       "      <th>age</th>\n",
       "      <th>avg_glucose_level</th>\n",
       "      <th>bmi</th>\n",
       "    </tr>\n",
       "  </thead>\n",
       "  <tbody>\n",
       "    <tr>\n",
       "      <th>0</th>\n",
       "      <td>Male</td>\n",
       "      <td>Yes</td>\n",
       "      <td>Private</td>\n",
       "      <td>Urban</td>\n",
       "      <td>formerly smoked</td>\n",
       "      <td>3</td>\n",
       "      <td>0</td>\n",
       "      <td>1</td>\n",
       "      <td>1</td>\n",
       "      <td>67.0</td>\n",
       "      <td>228.69</td>\n",
       "      <td>36.6</td>\n",
       "    </tr>\n",
       "    <tr>\n",
       "      <th>1</th>\n",
       "      <td>Female</td>\n",
       "      <td>Yes</td>\n",
       "      <td>Self-employed</td>\n",
       "      <td>Rural</td>\n",
       "      <td>never smoked</td>\n",
       "      <td>2</td>\n",
       "      <td>0</td>\n",
       "      <td>0</td>\n",
       "      <td>1</td>\n",
       "      <td>61.0</td>\n",
       "      <td>202.21</td>\n",
       "      <td>28.1</td>\n",
       "    </tr>\n",
       "    <tr>\n",
       "      <th>2</th>\n",
       "      <td>Male</td>\n",
       "      <td>Yes</td>\n",
       "      <td>Private</td>\n",
       "      <td>Rural</td>\n",
       "      <td>never smoked</td>\n",
       "      <td>3</td>\n",
       "      <td>0</td>\n",
       "      <td>1</td>\n",
       "      <td>1</td>\n",
       "      <td>80.0</td>\n",
       "      <td>105.92</td>\n",
       "      <td>32.5</td>\n",
       "    </tr>\n",
       "    <tr>\n",
       "      <th>3</th>\n",
       "      <td>Female</td>\n",
       "      <td>Yes</td>\n",
       "      <td>Private</td>\n",
       "      <td>Urban</td>\n",
       "      <td>smokes</td>\n",
       "      <td>3</td>\n",
       "      <td>0</td>\n",
       "      <td>0</td>\n",
       "      <td>1</td>\n",
       "      <td>49.0</td>\n",
       "      <td>171.23</td>\n",
       "      <td>34.4</td>\n",
       "    </tr>\n",
       "    <tr>\n",
       "      <th>4</th>\n",
       "      <td>Female</td>\n",
       "      <td>Yes</td>\n",
       "      <td>Self-employed</td>\n",
       "      <td>Rural</td>\n",
       "      <td>never smoked</td>\n",
       "      <td>1</td>\n",
       "      <td>1</td>\n",
       "      <td>0</td>\n",
       "      <td>1</td>\n",
       "      <td>79.0</td>\n",
       "      <td>174.12</td>\n",
       "      <td>24.0</td>\n",
       "    </tr>\n",
       "  </tbody>\n",
       "</table>\n",
       "</div>"
      ],
      "text/plain": [
       "   gender ever_married      work_type Residence_type   smoking_status  \\\n",
       "0    Male          Yes        Private          Urban  formerly smoked   \n",
       "1  Female          Yes  Self-employed          Rural     never smoked   \n",
       "2    Male          Yes        Private          Rural     never smoked   \n",
       "3  Female          Yes        Private          Urban           smokes   \n",
       "4  Female          Yes  Self-employed          Rural     never smoked   \n",
       "\n",
       "  bmi_range hypertension heart_disease stroke   age  avg_glucose_level   bmi  \n",
       "0         3            0             1      1  67.0             228.69  36.6  \n",
       "1         2            0             0      1  61.0             202.21  28.1  \n",
       "2         3            0             1      1  80.0             105.92  32.5  \n",
       "3         3            0             0      1  49.0             171.23  34.4  \n",
       "4         1            1             0      1  79.0             174.12  24.0  "
      ]
     },
     "execution_count": 4,
     "metadata": {},
     "output_type": "execute_result"
    }
   ],
   "source": [
    "df = load_preprocess_df()\n",
    "df.head()"
   ]
  },
  {
   "cell_type": "code",
   "execution_count": 5,
   "metadata": {},
   "outputs": [],
   "source": [
    "cat_features = ['gender', 'ever_married', 'work_type', 'Residence_type', 'smoking_status', 'bmi_range', 'hypertension', 'heart_disease', 'stroke']\n",
    "num_features = ['age', 'avg_glucose_level', 'bmi']"
   ]
  },
  {
   "cell_type": "code",
   "execution_count": 6,
   "metadata": {},
   "outputs": [],
   "source": [
    "# Setting significance level as 0.05\n",
    "ALPHA = 0.05"
   ]
  },
  {
   "cell_type": "markdown",
   "metadata": {},
   "source": [
    "# Statistical Analysis on Categorical Features"
   ]
  },
  {
   "cell_type": "markdown",
   "metadata": {},
   "source": [
    "**Hypothesis definition** <br>\n",
    "Null hypothesis, $H_0$ : Variable A and Variable B are **independent** <br>\n",
    "Alternative hypothesis, $H_1$ : Variable A and Variable B are **dependent** <br>\n",
    " <br>\n",
    "Significance level, $\\alpha$ is generally set to 0.05. <br>\n",
    "\n",
    "- p-value $\\le$  $\\alpha$ : significant result, reject null hypothesis.\n",
    "- p-value $\\gt$  $\\alpha$ : not significant result, fail to reject null hypothesis. <br><br>\n",
    "- To analyze whether there is a significant association between two categorical features, **Pearson's chi-squared test** analysis is commonly used."
   ]
  },
  {
   "cell_type": "code",
   "execution_count": 7,
   "metadata": {},
   "outputs": [],
   "source": [
    "from sklearn.feature_selection import SelectPercentile, chi2\n",
    "from sklearn.preprocessing import LabelEncoder"
   ]
  },
  {
   "cell_type": "code",
   "execution_count": 8,
   "metadata": {},
   "outputs": [
    {
     "data": {
      "text/html": [
       "<div>\n",
       "<style scoped>\n",
       "    .dataframe tbody tr th:only-of-type {\n",
       "        vertical-align: middle;\n",
       "    }\n",
       "\n",
       "    .dataframe tbody tr th {\n",
       "        vertical-align: top;\n",
       "    }\n",
       "\n",
       "    .dataframe thead th {\n",
       "        text-align: right;\n",
       "    }\n",
       "</style>\n",
       "<table border=\"1\" class=\"dataframe\">\n",
       "  <thead>\n",
       "    <tr style=\"text-align: right;\">\n",
       "      <th></th>\n",
       "      <th>gender</th>\n",
       "      <th>ever_married</th>\n",
       "      <th>work_type</th>\n",
       "      <th>Residence_type</th>\n",
       "      <th>smoking_status</th>\n",
       "      <th>bmi_range</th>\n",
       "      <th>hypertension</th>\n",
       "      <th>heart_disease</th>\n",
       "      <th>stroke</th>\n",
       "    </tr>\n",
       "  </thead>\n",
       "  <tbody>\n",
       "    <tr>\n",
       "      <th>0</th>\n",
       "      <td>1</td>\n",
       "      <td>1</td>\n",
       "      <td>2</td>\n",
       "      <td>1</td>\n",
       "      <td>1</td>\n",
       "      <td>3</td>\n",
       "      <td>0</td>\n",
       "      <td>1</td>\n",
       "      <td>1</td>\n",
       "    </tr>\n",
       "    <tr>\n",
       "      <th>1</th>\n",
       "      <td>0</td>\n",
       "      <td>1</td>\n",
       "      <td>3</td>\n",
       "      <td>0</td>\n",
       "      <td>2</td>\n",
       "      <td>2</td>\n",
       "      <td>0</td>\n",
       "      <td>0</td>\n",
       "      <td>1</td>\n",
       "    </tr>\n",
       "    <tr>\n",
       "      <th>2</th>\n",
       "      <td>1</td>\n",
       "      <td>1</td>\n",
       "      <td>2</td>\n",
       "      <td>0</td>\n",
       "      <td>2</td>\n",
       "      <td>3</td>\n",
       "      <td>0</td>\n",
       "      <td>1</td>\n",
       "      <td>1</td>\n",
       "    </tr>\n",
       "    <tr>\n",
       "      <th>3</th>\n",
       "      <td>0</td>\n",
       "      <td>1</td>\n",
       "      <td>2</td>\n",
       "      <td>1</td>\n",
       "      <td>3</td>\n",
       "      <td>3</td>\n",
       "      <td>0</td>\n",
       "      <td>0</td>\n",
       "      <td>1</td>\n",
       "    </tr>\n",
       "    <tr>\n",
       "      <th>4</th>\n",
       "      <td>0</td>\n",
       "      <td>1</td>\n",
       "      <td>3</td>\n",
       "      <td>0</td>\n",
       "      <td>2</td>\n",
       "      <td>1</td>\n",
       "      <td>1</td>\n",
       "      <td>0</td>\n",
       "      <td>1</td>\n",
       "    </tr>\n",
       "  </tbody>\n",
       "</table>\n",
       "</div>"
      ],
      "text/plain": [
       "   gender  ever_married  work_type  Residence_type  smoking_status bmi_range  \\\n",
       "0       1             1          2               1               1         3   \n",
       "1       0             1          3               0               2         2   \n",
       "2       1             1          2               0               2         3   \n",
       "3       0             1          2               1               3         3   \n",
       "4       0             1          3               0               2         1   \n",
       "\n",
       "  hypertension heart_disease stroke  \n",
       "0            0             1      1  \n",
       "1            0             0      1  \n",
       "2            0             1      1  \n",
       "3            0             0      1  \n",
       "4            1             0      1  "
      ]
     },
     "execution_count": 8,
     "metadata": {},
     "output_type": "execute_result"
    }
   ],
   "source": [
    "df_cat_label =  pd.concat([df.loc[:, 'gender': 'smoking_status'].apply(lambda x: LabelEncoder().fit_transform(x)),\n",
    "                           df.loc[:, 'bmi_range': 'stroke']], axis=1)\n",
    "\n",
    "df_cat_label.head()"
   ]
  },
  {
   "cell_type": "code",
   "execution_count": 9,
   "metadata": {},
   "outputs": [
    {
     "data": {
      "text/html": [
       "<div>\n",
       "<style scoped>\n",
       "    .dataframe tbody tr th:only-of-type {\n",
       "        vertical-align: middle;\n",
       "    }\n",
       "\n",
       "    .dataframe tbody tr th {\n",
       "        vertical-align: top;\n",
       "    }\n",
       "\n",
       "    .dataframe thead th {\n",
       "        text-align: right;\n",
       "    }\n",
       "</style>\n",
       "<table border=\"1\" class=\"dataframe\">\n",
       "  <thead>\n",
       "    <tr style=\"text-align: right;\">\n",
       "      <th></th>\n",
       "      <th>target</th>\n",
       "      <th>cat_feature</th>\n",
       "      <th>chi2</th>\n",
       "      <th>p-value</th>\n",
       "      <th>rounded p</th>\n",
       "      <th>alpha</th>\n",
       "      <th>H0</th>\n",
       "      <th>relation</th>\n",
       "    </tr>\n",
       "  </thead>\n",
       "  <tbody>\n",
       "    <tr>\n",
       "      <th>8</th>\n",
       "      <td>stroke</td>\n",
       "      <td>stroke</td>\n",
       "      <td>4860.000000</td>\n",
       "      <td>0.000000e+00</td>\n",
       "      <td>0.000</td>\n",
       "      <td>0.05</td>\n",
       "      <td>Rejected</td>\n",
       "      <td>Dependent</td>\n",
       "    </tr>\n",
       "    <tr>\n",
       "      <th>7</th>\n",
       "      <td>stroke</td>\n",
       "      <td>heart_disease</td>\n",
       "      <td>87.957296</td>\n",
       "      <td>6.688296e-21</td>\n",
       "      <td>0.000</td>\n",
       "      <td>0.05</td>\n",
       "      <td>Rejected</td>\n",
       "      <td>Dependent</td>\n",
       "    </tr>\n",
       "    <tr>\n",
       "      <th>6</th>\n",
       "      <td>stroke</td>\n",
       "      <td>hypertension</td>\n",
       "      <td>75.418319</td>\n",
       "      <td>3.808401e-18</td>\n",
       "      <td>0.000</td>\n",
       "      <td>0.05</td>\n",
       "      <td>Rejected</td>\n",
       "      <td>Dependent</td>\n",
       "    </tr>\n",
       "    <tr>\n",
       "      <th>1</th>\n",
       "      <td>stroke</td>\n",
       "      <td>ever_married</td>\n",
       "      <td>20.595671</td>\n",
       "      <td>5.672425e-06</td>\n",
       "      <td>0.000</td>\n",
       "      <td>0.05</td>\n",
       "      <td>Rejected</td>\n",
       "      <td>Dependent</td>\n",
       "    </tr>\n",
       "    <tr>\n",
       "      <th>5</th>\n",
       "      <td>stroke</td>\n",
       "      <td>bmi_range</td>\n",
       "      <td>7.210314</td>\n",
       "      <td>7.248579e-03</td>\n",
       "      <td>0.007</td>\n",
       "      <td>0.05</td>\n",
       "      <td>Rejected</td>\n",
       "      <td>Dependent</td>\n",
       "    </tr>\n",
       "    <tr>\n",
       "      <th>4</th>\n",
       "      <td>stroke</td>\n",
       "      <td>smoking_status</td>\n",
       "      <td>3.365543</td>\n",
       "      <td>6.657364e-02</td>\n",
       "      <td>0.067</td>\n",
       "      <td>0.05</td>\n",
       "      <td>Fail to reject</td>\n",
       "      <td>Independent</td>\n",
       "    </tr>\n",
       "    <tr>\n",
       "      <th>2</th>\n",
       "      <td>stroke</td>\n",
       "      <td>work_type</td>\n",
       "      <td>2.927120</td>\n",
       "      <td>8.710275e-02</td>\n",
       "      <td>0.087</td>\n",
       "      <td>0.05</td>\n",
       "      <td>Fail to reject</td>\n",
       "      <td>Independent</td>\n",
       "    </tr>\n",
       "    <tr>\n",
       "      <th>3</th>\n",
       "      <td>stroke</td>\n",
       "      <td>Residence_type</td>\n",
       "      <td>0.597112</td>\n",
       "      <td>4.396819e-01</td>\n",
       "      <td>0.440</td>\n",
       "      <td>0.05</td>\n",
       "      <td>Fail to reject</td>\n",
       "      <td>Independent</td>\n",
       "    </tr>\n",
       "    <tr>\n",
       "      <th>0</th>\n",
       "      <td>stroke</td>\n",
       "      <td>gender</td>\n",
       "      <td>0.246877</td>\n",
       "      <td>6.192826e-01</td>\n",
       "      <td>0.619</td>\n",
       "      <td>0.05</td>\n",
       "      <td>Fail to reject</td>\n",
       "      <td>Independent</td>\n",
       "    </tr>\n",
       "  </tbody>\n",
       "</table>\n",
       "</div>"
      ],
      "text/plain": [
       "   target     cat_feature         chi2       p-value  rounded p  alpha  \\\n",
       "8  stroke          stroke  4860.000000  0.000000e+00      0.000   0.05   \n",
       "7  stroke   heart_disease    87.957296  6.688296e-21      0.000   0.05   \n",
       "6  stroke    hypertension    75.418319  3.808401e-18      0.000   0.05   \n",
       "1  stroke    ever_married    20.595671  5.672425e-06      0.000   0.05   \n",
       "5  stroke       bmi_range     7.210314  7.248579e-03      0.007   0.05   \n",
       "4  stroke  smoking_status     3.365543  6.657364e-02      0.067   0.05   \n",
       "2  stroke       work_type     2.927120  8.710275e-02      0.087   0.05   \n",
       "3  stroke  Residence_type     0.597112  4.396819e-01      0.440   0.05   \n",
       "0  stroke          gender     0.246877  6.192826e-01      0.619   0.05   \n",
       "\n",
       "               H0     relation  \n",
       "8        Rejected    Dependent  \n",
       "7        Rejected    Dependent  \n",
       "6        Rejected    Dependent  \n",
       "1        Rejected    Dependent  \n",
       "5        Rejected    Dependent  \n",
       "4  Fail to reject  Independent  \n",
       "2  Fail to reject  Independent  \n",
       "3  Fail to reject  Independent  \n",
       "0  Fail to reject  Independent  "
      ]
     },
     "execution_count": 9,
     "metadata": {},
     "output_type": "execute_result"
    }
   ],
   "source": [
    "chi2_res = chi2(df_cat_label, df.stroke)\n",
    "df_chi2 = pd.DataFrame({'target': 'stroke',\n",
    "                        'cat_feature': df_cat_label.columns,\n",
    "                        'chi2': chi2_res[0],\n",
    "                        'p-value': chi2_res[1],\n",
    "                        'rounded p': np.around(chi2_res[1], 3),\n",
    "                        'alpha': ALPHA})\n",
    "# df_chi2 = df_chi2.drop(df['cat_feature'=='stroke'], axis=0).reset_index(drop=True)\n",
    "df_chi2['H0'] = df_chi2['p-value'].apply(lambda x: 'Rejected' if x <= ALPHA else 'Fail to reject')\n",
    "df_chi2['relation'] = df_chi2['H0'].apply(lambda x: 'Dependent' if x=='Rejected' else 'Independent')\n",
    "df_chi2.sort_values(by='chi2', ascending=False)"
   ]
  },
  {
   "cell_type": "markdown",
   "metadata": {},
   "source": [
    "- When analyzing the independence between the `target` variable (`stroke` in our case) and other cat. features, <br>\n",
    "Most of the features are dependent on each other except for `stroke` VS `gender`/`work_type`/`Residence_type`/`smoking_status`\n",
    "- Particularly, `stroke` is very dependent on `heart_disease` and `hypertension`, with relatively very large `chi2` values"
   ]
  },
  {
   "cell_type": "markdown",
   "metadata": {},
   "source": [
    "# Statistical Analysis on Numerical Features"
   ]
  },
  {
   "cell_type": "markdown",
   "metadata": {},
   "source": [
    "## Visual Normality Checks"
   ]
  },
  {
   "cell_type": "markdown",
   "metadata": {},
   "source": [
    "- Checking using histograms with kernel density estimate plots"
   ]
  },
  {
   "cell_type": "code",
   "execution_count": 10,
   "metadata": {},
   "outputs": [],
   "source": [
    "num_features = ['age', 'avg_glucose_level', 'bmi']"
   ]
  },
  {
   "cell_type": "code",
   "execution_count": 11,
   "metadata": {},
   "outputs": [
    {
     "data": {
      "text/html": [
       "<div>\n",
       "<style scoped>\n",
       "    .dataframe tbody tr th:only-of-type {\n",
       "        vertical-align: middle;\n",
       "    }\n",
       "\n",
       "    .dataframe tbody tr th {\n",
       "        vertical-align: top;\n",
       "    }\n",
       "\n",
       "    .dataframe thead th {\n",
       "        text-align: right;\n",
       "    }\n",
       "</style>\n",
       "<table border=\"1\" class=\"dataframe\">\n",
       "  <thead>\n",
       "    <tr style=\"text-align: right;\">\n",
       "      <th></th>\n",
       "      <th>age</th>\n",
       "      <th>avg_glucose_level</th>\n",
       "      <th>bmi</th>\n",
       "    </tr>\n",
       "  </thead>\n",
       "  <tbody>\n",
       "    <tr>\n",
       "      <th>0</th>\n",
       "      <td>67.0</td>\n",
       "      <td>228.69</td>\n",
       "      <td>36.6</td>\n",
       "    </tr>\n",
       "    <tr>\n",
       "      <th>1</th>\n",
       "      <td>61.0</td>\n",
       "      <td>202.21</td>\n",
       "      <td>28.1</td>\n",
       "    </tr>\n",
       "    <tr>\n",
       "      <th>2</th>\n",
       "      <td>80.0</td>\n",
       "      <td>105.92</td>\n",
       "      <td>32.5</td>\n",
       "    </tr>\n",
       "    <tr>\n",
       "      <th>3</th>\n",
       "      <td>49.0</td>\n",
       "      <td>171.23</td>\n",
       "      <td>34.4</td>\n",
       "    </tr>\n",
       "    <tr>\n",
       "      <th>4</th>\n",
       "      <td>79.0</td>\n",
       "      <td>174.12</td>\n",
       "      <td>24.0</td>\n",
       "    </tr>\n",
       "  </tbody>\n",
       "</table>\n",
       "</div>"
      ],
      "text/plain": [
       "    age  avg_glucose_level   bmi\n",
       "0  67.0             228.69  36.6\n",
       "1  61.0             202.21  28.1\n",
       "2  80.0             105.92  32.5\n",
       "3  49.0             171.23  34.4\n",
       "4  79.0             174.12  24.0"
      ]
     },
     "execution_count": 11,
     "metadata": {},
     "output_type": "execute_result"
    }
   ],
   "source": [
    "df_nums = df[num_features]\n",
    "df_nums.head()"
   ]
  },
  {
   "cell_type": "code",
   "execution_count": 12,
   "metadata": {},
   "outputs": [],
   "source": [
    "# Setting the overall theme for the notebook\n",
    "sns.set_theme(style='darkgrid', palette='tab10', font_scale=1.1)"
   ]
  },
  {
   "cell_type": "code",
   "execution_count": 13,
   "metadata": {},
   "outputs": [
    {
     "data": {
      "image/png": "[encoded data removed]",
      "text/plain": [
       "<Figure size 1296x360 with 3 Axes>"
      ]
     },
     "metadata": {},
     "output_type": "display_data"
    }
   ],
   "source": [
    "fig = plt.figure(1, (18, 5))\n",
    "\n",
    "for i, feature in enumerate(num_features):\n",
    "    ax = plt.subplot(1, 3, i+1)\n",
    "    # sns.displot(data=df_nums, x=feature, kde=True)\n",
    "    sns.histplot(data=df_nums, x=feature, kde=True, bins=50)\n",
    "    ax.set_xlabel(None)\n",
    "    ax.set_title(f'Distribution of {feature}')\n",
    "    plt.tight_layout()\n",
    "plt.show()"
   ]
  },
  {
   "cell_type": "markdown",
   "metadata": {},
   "source": [
    "- Already checked in EDA previously. Only `age` is similar to normal distribution."
   ]
  },
  {
   "cell_type": "markdown",
   "metadata": {},
   "source": [
    "<br>\n",
    "\n",
    "A **log-normal distribution** is a distribution of a random variable whose logarithm is normally distributed.\n",
    "\n",
    "Checking whether these features are log-normal or not."
   ]
  },
  {
   "cell_type": "code",
   "execution_count": 14,
   "metadata": {},
   "outputs": [
    {
     "data": {
      "text/html": [
       "<div>\n",
       "<style scoped>\n",
       "    .dataframe tbody tr th:only-of-type {\n",
       "        vertical-align: middle;\n",
       "    }\n",
       "\n",
       "    .dataframe tbody tr th {\n",
       "        vertical-align: top;\n",
       "    }\n",
       "\n",
       "    .dataframe thead th {\n",
       "        text-align: right;\n",
       "    }\n",
       "</style>\n",
       "<table border=\"1\" class=\"dataframe\">\n",
       "  <thead>\n",
       "    <tr style=\"text-align: right;\">\n",
       "      <th></th>\n",
       "      <th>age</th>\n",
       "      <th>avg_glucose_level</th>\n",
       "      <th>bmi</th>\n",
       "    </tr>\n",
       "  </thead>\n",
       "  <tbody>\n",
       "    <tr>\n",
       "      <th>0</th>\n",
       "      <td>6.066089</td>\n",
       "      <td>7.837249</td>\n",
       "      <td>5.193772</td>\n",
       "    </tr>\n",
       "    <tr>\n",
       "      <th>1</th>\n",
       "      <td>5.930737</td>\n",
       "      <td>7.659711</td>\n",
       "      <td>4.812498</td>\n",
       "    </tr>\n",
       "    <tr>\n",
       "      <th>2</th>\n",
       "      <td>6.321928</td>\n",
       "      <td>6.726831</td>\n",
       "      <td>5.022368</td>\n",
       "    </tr>\n",
       "    <tr>\n",
       "      <th>3</th>\n",
       "      <td>5.614710</td>\n",
       "      <td>7.419792</td>\n",
       "      <td>5.104337</td>\n",
       "    </tr>\n",
       "    <tr>\n",
       "      <th>4</th>\n",
       "      <td>6.303781</td>\n",
       "      <td>7.443938</td>\n",
       "      <td>4.584963</td>\n",
       "    </tr>\n",
       "  </tbody>\n",
       "</table>\n",
       "</div>"
      ],
      "text/plain": [
       "        age  avg_glucose_level       bmi\n",
       "0  6.066089           7.837249  5.193772\n",
       "1  5.930737           7.659711  4.812498\n",
       "2  6.321928           6.726831  5.022368\n",
       "3  5.614710           7.419792  5.104337\n",
       "4  6.303781           7.443938  4.584963"
      ]
     },
     "execution_count": 14,
     "metadata": {},
     "output_type": "execute_result"
    }
   ],
   "source": [
    "df_log = np.log2(df_nums)\n",
    "df_log.head()"
   ]
  },
  {
   "cell_type": "code",
   "execution_count": 15,
   "metadata": {},
   "outputs": [
    {
     "data": {
      "image/png": "[encoded data removed]",
      "text/plain": [
       "<Figure size 1296x360 with 3 Axes>"
      ]
     },
     "metadata": {},
     "output_type": "display_data"
    }
   ],
   "source": [
    "fig = plt.figure(1, (18, 5))\n",
    "\n",
    "for i, num_feature in enumerate(num_features):\n",
    "    ax = plt.subplot(1, 3, i+1)\n",
    "    ax.set_title(f'Distribution of log-transformed {num_feature}', size=15)\n",
    "    sns.histplot(data=df_log, x=num_feature, kde=True, bins=50)\n",
    "    plt.tight_layout()\n",
    "plt.show()"
   ]
  },
  {
   "cell_type": "markdown",
   "metadata": {},
   "source": [
    "- After log transformation, `age` has become significantly left-skewed, `avg_glucose_level` is not log-normal too.\n",
    "- Only `bmi` has become visually very similar to a log-normal distribution, note that the higher peak in the middle is likely due to the median imputation for the missing values."
   ]
  },
  {
   "cell_type": "markdown",
   "metadata": {},
   "source": [
    "**Using quantile-quantile plot (Q-Q Plot) to visualize their normality**"
   ]
  },
  {
   "cell_type": "code",
   "execution_count": 16,
   "metadata": {},
   "outputs": [
    {
     "data": {
      "image/png": "[encoded data removed]",
      "text/plain": [
       "<Figure size 1296x576 with 3 Axes>"
      ]
     },
     "metadata": {},
     "output_type": "display_data"
    }
   ],
   "source": [
    "from statsmodels.graphics.gofplots import qqplot\n",
    "# quantile-quantile plots on original data\n",
    "fig = plt.figure(1, (18, 8))\n",
    "\n",
    "for i, num_feature in enumerate(df_nums):\n",
    "    ax = plt.subplot(2, 3, i+1)\n",
    "    qqplot(df_nums[num_feature], line='s', ax=ax, markersize=5)\n",
    "    ax.set_title(f'qqplot - {num_feature}')\n",
    "    plt.tight_layout()\n",
    "plt.show()"
   ]
  },
  {
   "cell_type": "markdown",
   "metadata": {},
   "source": [
    "By looking at whether the points fall on the expected best fit line (red line, mean=0, std=1), normality can be determined. <br>\n",
    "- `age` is half-way to become a normal distribution, with less data at extreme values (points at left side are above the expected best line, points at right side are below)\n",
    "- `bmi` also generally seems to be normal distribution, but with some exceptions at extreme values."
   ]
  },
  {
   "cell_type": "markdown",
   "metadata": {},
   "source": [
    "## Hypothesis Tests for Normality"
   ]
  },
  {
   "cell_type": "code",
   "execution_count": 17,
   "metadata": {},
   "outputs": [],
   "source": [
    "from scipy import stats\n",
    "# let's contruct a function\n",
    "def shapiro_wilk_test(df, cols, alpha=0.05):\n",
    "    # test the null hypothesis for columns given in `cols` of the dataframe `df` under significance level `alpha`.\n",
    "    for col in cols:\n",
    "        w, p = stats.shapiro(df[col])\n",
    "        if p <= alpha:\n",
    "            print(f\"Rejected H0 under significance level {alpha}\")\n",
    "            print(f\"{col} differs significantly from a normal distribution (W={w:.3f}, p={p:.5f})\\n\")\n",
    "        else:\n",
    "            print(f\"\\nFail to reject H0 due to lack of evidence under significance level {alpha}\\n\")\n",
    "            print(f\"{col} seem to be normally distributed (W={w:.3f}, p={p:.5f})\")"
   ]
  },
  {
   "cell_type": "code",
   "execution_count": 18,
   "metadata": {},
   "outputs": [
    {
     "name": "stdout",
     "output_type": "stream",
     "text": [
      "Rejected H0 under significance level 0.05\n",
      "age differs significantly from a normal distribution (W=0.967, p=0.00000)\n",
      "\n",
      "Rejected H0 under significance level 0.05\n",
      "avg_glucose_level differs significantly from a normal distribution (W=0.806, p=0.00000)\n",
      "\n",
      "Rejected H0 under significance level 0.05\n",
      "bmi differs significantly from a normal distribution (W=0.951, p=0.00000)\n",
      "\n"
     ]
    },
    {
     "name": "stderr",
     "output_type": "stream",
     "text": [
      "C:\\Users\\user\\anaconda3\\lib\\site-packages\\scipy\\stats\\morestats.py:1681: UserWarning: p-value may not be accurate for N > 5000.\n",
      "  warnings.warn(\"p-value may not be accurate for N > 5000.\")\n"
     ]
    }
   ],
   "source": [
    "shapiro_wilk_test(df_nums, num_features)"
   ]
  },
  {
   "cell_type": "markdown",
   "metadata": {},
   "source": [
    "- Shapiro-Wilk Test has a problem for detecting normality when the sample size is large (>5000), which is typical for most tests"
   ]
  },
  {
   "cell_type": "markdown",
   "metadata": {},
   "source": [
    "- Trying to apply `power transform` to make the data more Gaussian-like (normal-like). Default method is `Yeo-Johnson` transform."
   ]
  },
  {
   "cell_type": "code",
   "execution_count": 19,
   "metadata": {},
   "outputs": [
    {
     "data": {
      "text/html": [
       "<div>\n",
       "<style scoped>\n",
       "    .dataframe tbody tr th:only-of-type {\n",
       "        vertical-align: middle;\n",
       "    }\n",
       "\n",
       "    .dataframe tbody tr th {\n",
       "        vertical-align: top;\n",
       "    }\n",
       "\n",
       "    .dataframe thead th {\n",
       "        text-align: right;\n",
       "    }\n",
       "</style>\n",
       "<table border=\"1\" class=\"dataframe\">\n",
       "  <thead>\n",
       "    <tr style=\"text-align: right;\">\n",
       "      <th></th>\n",
       "      <th>age</th>\n",
       "      <th>avg_glucose_level</th>\n",
       "      <th>bmi</th>\n",
       "    </tr>\n",
       "  </thead>\n",
       "  <tbody>\n",
       "    <tr>\n",
       "      <th>0</th>\n",
       "      <td>1.032769</td>\n",
       "      <td>1.862392</td>\n",
       "      <td>1.045197</td>\n",
       "    </tr>\n",
       "    <tr>\n",
       "      <th>1</th>\n",
       "      <td>0.788093</td>\n",
       "      <td>1.700511</td>\n",
       "      <td>0.026753</td>\n",
       "    </tr>\n",
       "    <tr>\n",
       "      <th>2</th>\n",
       "      <td>1.552975</td>\n",
       "      <td>0.395031</td>\n",
       "      <td>0.587449</td>\n",
       "    </tr>\n",
       "    <tr>\n",
       "      <th>3</th>\n",
       "      <td>0.288329</td>\n",
       "      <td>1.445120</td>\n",
       "      <td>0.806387</td>\n",
       "    </tr>\n",
       "    <tr>\n",
       "      <th>4</th>\n",
       "      <td>1.513397</td>\n",
       "      <td>1.472918</td>\n",
       "      <td>-0.580998</td>\n",
       "    </tr>\n",
       "  </tbody>\n",
       "</table>\n",
       "</div>"
      ],
      "text/plain": [
       "        age  avg_glucose_level       bmi\n",
       "0  1.032769           1.862392  1.045197\n",
       "1  0.788093           1.700511  0.026753\n",
       "2  1.552975           0.395031  0.587449\n",
       "3  0.288329           1.445120  0.806387\n",
       "4  1.513397           1.472918 -0.580998"
      ]
     },
     "execution_count": 19,
     "metadata": {},
     "output_type": "execute_result"
    }
   ],
   "source": [
    "from sklearn.preprocessing import PowerTransformer\n",
    "\n",
    "pt = PowerTransformer()\n",
    "transformed_df = pt.fit_transform(df_nums)\n",
    "transformed_df = pd.DataFrame(transformed_df, columns=df_nums.columns)\n",
    "transformed_df.head()"
   ]
  },
  {
   "cell_type": "code",
   "execution_count": 20,
   "metadata": {},
   "outputs": [
    {
     "data": {
      "image/png": "[encoded data removed]",
      "text/plain": [
       "<Figure size 1296x360 with 3 Axes>"
      ]
     },
     "metadata": {},
     "output_type": "display_data"
    }
   ],
   "source": [
    "fig = plt.figure(1, (18, 5))\n",
    "\n",
    "for i, num_feature in enumerate(num_features):\n",
    "    ax = plt.subplot(1, 3, i+1)\n",
    "    ax.set_title(f'Distribution of power-transformed {num_feature}', size=15)\n",
    "    sns.histplot(data=transformed_df, x=num_feature, kde=True, bins=50)\n",
    "    plt.tight_layout()\n",
    "plt.show()"
   ]
  },
  {
   "cell_type": "code",
   "execution_count": 21,
   "metadata": {},
   "outputs": [
    {
     "data": {
      "image/png": "[encoded data removed]",
      "text/plain": [
       "<Figure size 1296x576 with 3 Axes>"
      ]
     },
     "metadata": {},
     "output_type": "display_data"
    }
   ],
   "source": [
    "fig = plt.figure(1, (18,8))\n",
    "\n",
    "for i, num_feature in enumerate(df_nums):\n",
    "    ax = plt.subplot(2,3,i+1)\n",
    "    qqplot(transformed_df[num_feature], line='s', ax=ax, markersize=5)\n",
    "    ax.set_title(f'qqplot - {num_feature}')\n",
    "    plt.tight_layout()\n",
    "plt.show()"
   ]
  },
  {
   "cell_type": "markdown",
   "metadata": {},
   "source": [
    "- `age` is similar to before transformation, while `avg_glucose_level` has become more normal-like but still far from ideal.\n",
    "- `bmi` has become almost entirely normal distribution after the power transformation."
   ]
  },
  {
   "cell_type": "code",
   "execution_count": 22,
   "metadata": {},
   "outputs": [
    {
     "name": "stdout",
     "output_type": "stream",
     "text": [
      "Rejected H0 under significance level 0.05\n",
      "age differs significantly from a normal distribution (W=0.965, p=0.00000)\n",
      "\n",
      "Rejected H0 under significance level 0.05\n",
      "avg_glucose_level differs significantly from a normal distribution (W=0.981, p=0.00000)\n",
      "\n",
      "Rejected H0 under significance level 0.05\n",
      "bmi differs significantly from a normal distribution (W=0.996, p=0.00000)\n",
      "\n"
     ]
    },
    {
     "name": "stderr",
     "output_type": "stream",
     "text": [
      "C:\\Users\\user\\anaconda3\\lib\\site-packages\\scipy\\stats\\morestats.py:1681: UserWarning: p-value may not be accurate for N > 5000.\n",
      "  warnings.warn(\"p-value may not be accurate for N > 5000.\")\n"
     ]
    }
   ],
   "source": [
    "shapiro_wilk_test(transformed_df, num_features)"
   ]
  },
  {
   "cell_type": "markdown",
   "metadata": {},
   "source": [
    "- Even after transforming, all of them are still deemed significantly different from normal distribution through the Shapiro-Wilk Test, <br> \n",
    "this is most likely due to the limitation of the test.\n",
    "- However, visually, it is evident to tell that `age` and `bmi` can be considered normal distribution, while `avg_glucose_level` is close to normal distribution after power transformation.\n",
    "- Therefore, hypothesis tests of `t-test` or `ANOVA` can still be conducted.\n",
    "\n",
    "\n",
    "- Generally, Shapiro-Wilk Test is not a good way to determine whether they are Gaussian \"enough\" to conduct such parametric hypothesis tests. \n",
    "- Quantile-quantile plot visualization is better for this."
   ]
  },
  {
   "cell_type": "markdown",
   "metadata": {},
   "source": [
    "## Hypothesis Test for Correlation"
   ]
  },
  {
   "cell_type": "markdown",
   "metadata": {},
   "source": [
    "**Hypothesis definition** <br>\n",
    "Null hypothesis, $H_0$ : Variable A and Variable B are **uncorrelated** <br>\n",
    "Alternative hypothesis, $H_1$ : Variable A and Variable B are **correlated** <br>\n",
    " <br>\n",
    "Significance level, $\\alpha$ is generally set to 0.05. <br>\n",
    "\n",
    "- p-value $\\le$  $\\alpha$ : significant result, reject null hypothesis.\n",
    "- p-value $\\gt$  $\\alpha$ : not significant result, fail to reject null hypothesis. <br><br>\n",
    "- To analyze whether there is a significant association between two numerical features, **Pearson's/Spearman's correlation** are commonly used. <br>\n",
    "- Such methods are for statistical hypothesis test, therefore they assume that the samples are uncorrelated (fail to reject $H_0$)."
   ]
  },
  {
   "cell_type": "markdown",
   "metadata": {},
   "source": [
    "**Assumptions of pearson correlation**:\n",
    "1. Both variables should have a Gaussian or Gaussian-like distribution.\n",
    "2. Relationship between the variables should be linear.\n",
    "3. Homoscedasticity i.e., a sequence of random variables where all its random variables have the same finite variance.\n",
    "\n",
    "Also Pearson is quite sensitive to outliers. So in this case, Spearman's correlation is preferred since there are many outliers for `avg_glucose_level` and `bmi`."
   ]
  },
  {
   "cell_type": "code",
   "execution_count": 23,
   "metadata": {},
   "outputs": [
    {
     "data": {
      "text/plain": [
       "[('age', 'avg_glucose_level'), ('age', 'bmi'), ('avg_glucose_level', 'bmi')]"
      ]
     },
     "execution_count": 23,
     "metadata": {},
     "output_type": "execute_result"
    }
   ],
   "source": [
    "from scipy.stats import pearsonr, spearmanr, kendalltau\n",
    "from itertools import combinations\n",
    "\n",
    "list(combinations(num_features, 2))"
   ]
  },
  {
   "cell_type": "code",
   "execution_count": 25,
   "metadata": {},
   "outputs": [],
   "source": [
    "def test_correlation(x1, x2, method='spearman', alpha=ALPHA):\n",
    "    # this function returns correlation, p-value and H0 for `x1` & `x2`\n",
    "    \n",
    "    ALLOWED_METHODS = ['pearson', 'spearman', 'kendall']\n",
    "    if method not in ALLOWED_METHODS:\n",
    "        raise ValueError(f'Allowed methods are {ALLOWED_METHODS}')\n",
    "        \n",
    "    if method =='pearson':\n",
    "        corr, p = pearsonr(x1, x2)\n",
    "    elif method =='spearman':\n",
    "        corr, p = spearmanr(x1, x2)\n",
    "    else:\n",
    "        corr, p = kendalltau(x1, x2)\n",
    "    \n",
    "    h0 = 'Rejected' if p <= alpha else 'Fail to reject'\n",
    "    \n",
    "    return corr, p, h0"
   ]
  },
  {
   "cell_type": "code",
   "execution_count": 48,
   "metadata": {},
   "outputs": [
    {
     "data": {
      "text/html": [
       "<style  type=\"text/css\" >\n",
       "#T_04726_row1_col2,#T_04726_row2_col3{\n",
       "            background-color:  navy;\n",
       "        }</style><table id=\"T_04726_\" ><thead>    <tr>        <th class=\"blank level0\" ></th>        <th class=\"col_heading level0 col0\" >feature_1</th>        <th class=\"col_heading level0 col1\" >feature_2</th>        <th class=\"col_heading level0 col2\" >correlation</th>        <th class=\"col_heading level0 col3\" >p</th>        <th class=\"col_heading level0 col4\" >H0</th>    </tr></thead><tbody>\n",
       "                <tr>\n",
       "                        <th id=\"T_04726_level0_row0\" class=\"row_heading level0 row0\" >0</th>\n",
       "                        <td id=\"T_04726_row0_col0\" class=\"data row0 col0\" >age</td>\n",
       "                        <td id=\"T_04726_row0_col1\" class=\"data row0 col1\" >avg_glucose_level</td>\n",
       "                        <td id=\"T_04726_row0_col2\" class=\"data row0 col2\" >0.145360</td>\n",
       "                        <td id=\"T_04726_row0_col3\" class=\"data row0 col3\" >0.000000</td>\n",
       "                        <td id=\"T_04726_row0_col4\" class=\"data row0 col4\" >Rejected</td>\n",
       "            </tr>\n",
       "            <tr>\n",
       "                        <th id=\"T_04726_level0_row1\" class=\"row_heading level0 row1\" >1</th>\n",
       "                        <td id=\"T_04726_row1_col0\" class=\"data row1 col0\" >age</td>\n",
       "                        <td id=\"T_04726_row1_col1\" class=\"data row1 col1\" >bmi</td>\n",
       "                        <td id=\"T_04726_row1_col2\" class=\"data row1 col2\" >0.362650</td>\n",
       "                        <td id=\"T_04726_row1_col3\" class=\"data row1 col3\" >0.000000</td>\n",
       "                        <td id=\"T_04726_row1_col4\" class=\"data row1 col4\" >Rejected</td>\n",
       "            </tr>\n",
       "            <tr>\n",
       "                        <th id=\"T_04726_level0_row2\" class=\"row_heading level0 row2\" >2</th>\n",
       "                        <td id=\"T_04726_row2_col0\" class=\"data row2 col0\" >avg_glucose_level</td>\n",
       "                        <td id=\"T_04726_row2_col1\" class=\"data row2 col1\" >bmi</td>\n",
       "                        <td id=\"T_04726_row2_col2\" class=\"data row2 col2\" >0.112170</td>\n",
       "                        <td id=\"T_04726_row2_col3\" class=\"data row2 col3\" >0.000000</td>\n",
       "                        <td id=\"T_04726_row2_col4\" class=\"data row2 col4\" >Rejected</td>\n",
       "            </tr>\n",
       "    </tbody></table>"
      ],
      "text/plain": [
       "<pandas.io.formats.style.Styler at 0x1c483357bb0>"
      ]
     },
     "execution_count": 48,
     "metadata": {},
     "output_type": "execute_result"
    }
   ],
   "source": [
    "df_corr = pd.DataFrame(columns=['feature_1', 'feature_2', 'correlation', 'p', 'H0'])\n",
    "\n",
    "for x, y in combinations(num_features, r=2):\n",
    "    corr, p, h0 = test_correlation(df_nums[x], df_nums[y])\n",
    "    \n",
    "    df_corr = df_corr.append({'feature_1': x, 'feature_2': y,\n",
    "                              'correlation': round(corr, 5), 'p': p, 'H0': h0}, ignore_index=True)\n",
    "    \n",
    "df_corr.style.highlight_max(color='navy')"
   ]
  },
  {
   "cell_type": "markdown",
   "metadata": {},
   "source": [
    "- All of their null hypothesis are rejected, therefore all of the numerical features are correlated to each other. \n",
    "- With `age` and `bmi` being moderately more correlated than the other 2 combinations"
   ]
  },
  {
   "cell_type": "markdown",
   "metadata": {},
   "source": [
    "# Statistical Significance Tests"
   ]
  },
  {
   "cell_type": "markdown",
   "metadata": {},
   "source": [
    "**Parametric Statistical Significance Tests** <br>\n",
    "1. **Student’s t-test** - It tests whether the two independent normal distributed samples have the same mean or not. <br>\n",
    "2. **Analysis of Variance test (ANOVA)** - It tests whether the two or more independent normal distributed samples have the same mean or not. <br>\n",
    "ANOVA serves the same purpose with t-test but for more than two variables instead of only two variables. So either apply t-test pair-wise or apply ANOVA once.  <br>\n",
    "ANOVA also only tells whether all the samples have the same mean or not, it doesn't quantify which samples differ or by how much.\n",
    "\n",
    "**Non-Parametric Statistical Significance Tests** <br>\n",
    "1. **Mann-Whitney U test** - Non-parametric equivalent of **Student's t-test**. <br>\n",
    "2. **Kruskal-Wallis H test** - Non-parametric equivalent of **ANOVA** (but it compares the median instead). <br>\n",
    "\n",
    "Parametric tests are for normally distributed data, while non-parametric tests are for non-normally distributed data. <br>\n",
    "However, in this case, the Shapiro-Wilk test is not a good way for determine whether they are normally distributed or not. <br>\n",
    "We have already verified that the 3 numerical features `age`, `avg_glucose_level` and `bmi` are similar to normal distribution in the Q-Q plots. <br>\n",
    "Therefore, it is generally good enough to apply parametric tests by inspecting the visualizations."
   ]
  },
  {
   "cell_type": "code",
   "execution_count": 27,
   "metadata": {},
   "outputs": [
    {
     "data": {
      "text/plain": [
       "['age', 'avg_glucose_level', 'bmi']"
      ]
     },
     "execution_count": 27,
     "metadata": {},
     "output_type": "execute_result"
    }
   ],
   "source": [
    "num_features"
   ]
  },
  {
   "cell_type": "code",
   "execution_count": 28,
   "metadata": {},
   "outputs": [
    {
     "name": "stdout",
     "output_type": "stream",
     "text": [
      "['gender', 'ever_married', 'work_type', 'Residence_type', 'smoking_status', 'bmi_range', 'hypertension', 'heart_disease', 'stroke']\n"
     ]
    }
   ],
   "source": [
    "print(cat_features)"
   ]
  },
  {
   "cell_type": "markdown",
   "metadata": {},
   "source": [
    "## t-tests"
   ]
  },
  {
   "cell_type": "code",
   "execution_count": 29,
   "metadata": {},
   "outputs": [],
   "source": [
    "from scipy import stats"
   ]
  },
  {
   "cell_type": "code",
   "execution_count": 30,
   "metadata": {},
   "outputs": [
    {
     "name": "stdout",
     "output_type": "stream",
     "text": [
      "Since p = 0.0499 < 0.05, reject H0, different Age distributions between Male and Female (t=-1.96135, p=0.0499)\n"
     ]
    }
   ],
   "source": [
    "x, y = df[df.gender=='Male'].age, df[df.gender=='Female'].age\n",
    "\n",
    "t, p = stats.ttest_ind(x, y, equal_var=False)\n",
    "t, p = round(t, 5), round(p, 5)\n",
    "\n",
    "if p <= ALPHA:\n",
    "    print(f'Since p = {p} < {ALPHA}, reject H0, different Age distributions between Male and Female (t={t}, p={p})')\n",
    "else:\n",
    "    print(f'Since p = {p} > {ALPHA}, fail to reject H0, same Age distributions between Male and Female (t={t}, p={p}).')"
   ]
  },
  {
   "cell_type": "markdown",
   "metadata": {},
   "source": [
    "- The p-value is 0.0499 which is ***very close*** to **fail to reject H0**, therefore they can actually be considered as borderline similar distribution."
   ]
  },
  {
   "cell_type": "code",
   "execution_count": 31,
   "metadata": {},
   "outputs": [
    {
     "name": "stdout",
     "output_type": "stream",
     "text": [
      "Since p = 0.00012 < 0.05, reject H0, different avg_glucose_level distributions between Male and Female (t=3.86007, p=0.00012)\n"
     ]
    }
   ],
   "source": [
    "x, y = df[df.gender=='Male'].avg_glucose_level, df[df.gender=='Female'].avg_glucose_level\n",
    "\n",
    "t, p = stats.ttest_ind(x, y, equal_var=False)\n",
    "t, p = round(t, 5), round(p, 5)\n",
    "\n",
    "if p <= ALPHA:\n",
    "    print(f'Since p = {p} < {ALPHA}, reject H0, different avg_glucose_level distributions between Male and Female (t={t}, p={p})')\n",
    "else:\n",
    "    print(f'Since p = {p} > {ALPHA}, fail to reject H0, same avg_glucose_level distributions between Male and Female (t={t}, p={p}).')"
   ]
  },
  {
   "cell_type": "code",
   "execution_count": 32,
   "metadata": {},
   "outputs": [
    {
     "name": "stdout",
     "output_type": "stream",
     "text": [
      "Since p = 0.05478 > 0.05, fail to reject H0, same BMI distributions between Male and Female (t=-1.92107, p=0.05478).\n"
     ]
    }
   ],
   "source": [
    "x, y = df[df.gender=='Male'].bmi, df[df.gender=='Female'].bmi\n",
    "\n",
    "t, p = stats.ttest_ind(x, y, equal_var=False)\n",
    "t, p = round(t, 5), round(p, 5)\n",
    "\n",
    "if p <= ALPHA:\n",
    "    print(f'Since p = {p} < {ALPHA}, reject H0, different BMI distributions between Male and Female (t={t}, p={p})')\n",
    "else:\n",
    "    print(f'Since p = {p} > {ALPHA}, fail to reject H0, same BMI distributions between Male and Female (t={t}, p={p}).')"
   ]
  },
  {
   "cell_type": "code",
   "execution_count": 33,
   "metadata": {},
   "outputs": [
    {
     "name": "stdout",
     "output_type": "stream",
     "text": [
      "Since p = 0.0 < 0.05, reject H0, different Age distributions between Stroke and \"No stroke\" (t=29.68186, p=0.0)\n"
     ]
    }
   ],
   "source": [
    "x, y = df[df.stroke==1].age, df[df.stroke==0].age\n",
    "\n",
    "t, p = stats.ttest_ind(x, y, equal_var=False)\n",
    "t, p = round(t, 5), round(p, 5)\n",
    "\n",
    "if p <= ALPHA:\n",
    "    print(f'Since p = {p} < {ALPHA}, reject H0, different Age distributions between Stroke and \"No stroke\" (t={t}, p={p})')\n",
    "else:\n",
    "    print(f'Since p = {p} > {ALPHA}, fail to reject H0, same Age distributions between Stroke and \"No stroke\" (t={t}, p={p}).')"
   ]
  },
  {
   "cell_type": "code",
   "execution_count": 34,
   "metadata": {},
   "outputs": [
    {
     "name": "stdout",
     "output_type": "stream",
     "text": [
      "Since p = 0.0 < 0.05, reject H0, different avg_glucose_level distributions between Stroke and \"No stroke\" (t=6.98438, p=0.0)\n"
     ]
    }
   ],
   "source": [
    "x, y = df[df.stroke==1].avg_glucose_level, df[df.stroke==0].avg_glucose_level\n",
    "\n",
    "t, p = stats.ttest_ind(x, y, equal_var=False)\n",
    "t, p = round(t, 5), round(p, 5)\n",
    "\n",
    "if p <= ALPHA:\n",
    "    print(f'Since p = {p} < {ALPHA}, reject H0, different avg_glucose_level distributions between Stroke and \"No stroke\" (t={t}, p={p})')\n",
    "else:\n",
    "    print(f'Since p = {p} > {ALPHA}, fail to reject H0, same avg_glucose_level distributions between Stroke and \"No stroke\" (t={t}, p={p}).')"
   ]
  },
  {
   "cell_type": "code",
   "execution_count": 35,
   "metadata": {},
   "outputs": [
    {
     "name": "stdout",
     "output_type": "stream",
     "text": [
      "Since p = 0.00099 < 0.05, reject H0, different BMI distributions between Stroke and \"No stroke\" (t=3.32566, p=0.00099)\n"
     ]
    }
   ],
   "source": [
    "x, y = df[df.stroke==1].bmi, df[df.stroke==0].bmi\n",
    "\n",
    "t, p = stats.ttest_ind(x, y, equal_var=False)\n",
    "t, p = round(t, 5), round(p, 5)\n",
    "\n",
    "if p <= ALPHA:\n",
    "    print(f'Since p = {p} < {ALPHA}, reject H0, different BMI distributions between Stroke and \"No stroke\" (t={t}, p={p})')\n",
    "else:\n",
    "    print(f'Since p = {p} > {ALPHA}, fail to reject H0, same BMI distributions between Stroke and \"No stroke\" (t={t}, p={p}).')"
   ]
  },
  {
   "cell_type": "markdown",
   "metadata": {},
   "source": [
    "### Summary Tables for t-test Results"
   ]
  },
  {
   "cell_type": "code",
   "execution_count": 71,
   "metadata": {},
   "outputs": [
    {
     "data": {
      "text/html": [
       "<style  type=\"text/css\" >\n",
       "#T_8ff4b_row0_col0,#T_8ff4b_row0_col1,#T_8ff4b_row0_col5,#T_8ff4b_row0_col6,#T_8ff4b_row1_col0,#T_8ff4b_row1_col1,#T_8ff4b_row1_col5,#T_8ff4b_row1_col6,#T_8ff4b_row2_col0,#T_8ff4b_row2_col1{\n",
       "            cmap:  Blues;\n",
       "        }#T_8ff4b_row0_col2,#T_8ff4b_row0_col3,#T_8ff4b_row1_col2,#T_8ff4b_row1_col4,#T_8ff4b_row2_col2{\n",
       "            background-color:  #f7fbff;\n",
       "            color:  #000000;\n",
       "            cmap:  Blues;\n",
       "        }#T_8ff4b_row0_col4{\n",
       "            background-color:  #08478d;\n",
       "            color:  #f1f1f1;\n",
       "            cmap:  Blues;\n",
       "        }#T_8ff4b_row1_col3,#T_8ff4b_row2_col4{\n",
       "            background-color:  #08306b;\n",
       "            color:  #f1f1f1;\n",
       "            cmap:  Blues;\n",
       "        }#T_8ff4b_row2_col3{\n",
       "            background-color:  #f6faff;\n",
       "            color:  #000000;\n",
       "            cmap:  Blues;\n",
       "        }#T_8ff4b_row2_col5,#T_8ff4b_row2_col6{\n",
       "            color: green;\n",
       "        }</style><table id=\"T_8ff4b_\" ><thead>    <tr>        <th class=\"blank level0\" ></th>        <th class=\"col_heading level0 col0\" >cat_feat</th>        <th class=\"col_heading level0 col1\" >num_feat</th>        <th class=\"col_heading level0 col2\" >alpha</th>        <th class=\"col_heading level0 col3\" >t</th>        <th class=\"col_heading level0 col4\" >p</th>        <th class=\"col_heading level0 col5\" >H0</th>        <th class=\"col_heading level0 col6\" >relation</th>    </tr></thead><tbody>\n",
       "                <tr>\n",
       "                        <th id=\"T_8ff4b_level0_row0\" class=\"row_heading level0 row0\" >0</th>\n",
       "                        <td id=\"T_8ff4b_row0_col0\" class=\"data row0 col0\" >gender</td>\n",
       "                        <td id=\"T_8ff4b_row0_col1\" class=\"data row0 col1\" >age</td>\n",
       "                        <td id=\"T_8ff4b_row0_col2\" class=\"data row0 col2\" >0.050000</td>\n",
       "                        <td id=\"T_8ff4b_row0_col3\" class=\"data row0 col3\" >-1.961000</td>\n",
       "                        <td id=\"T_8ff4b_row0_col4\" class=\"data row0 col4\" >0.049900</td>\n",
       "                        <td id=\"T_8ff4b_row0_col5\" class=\"data row0 col5\" >Rejected</td>\n",
       "                        <td id=\"T_8ff4b_row0_col6\" class=\"data row0 col6\" >Different</td>\n",
       "            </tr>\n",
       "            <tr>\n",
       "                        <th id=\"T_8ff4b_level0_row1\" class=\"row_heading level0 row1\" >1</th>\n",
       "                        <td id=\"T_8ff4b_row1_col0\" class=\"data row1 col0\" >gender</td>\n",
       "                        <td id=\"T_8ff4b_row1_col1\" class=\"data row1 col1\" >avg_glucose_level</td>\n",
       "                        <td id=\"T_8ff4b_row1_col2\" class=\"data row1 col2\" >0.050000</td>\n",
       "                        <td id=\"T_8ff4b_row1_col3\" class=\"data row1 col3\" >3.860000</td>\n",
       "                        <td id=\"T_8ff4b_row1_col4\" class=\"data row1 col4\" >0.000120</td>\n",
       "                        <td id=\"T_8ff4b_row1_col5\" class=\"data row1 col5\" >Rejected</td>\n",
       "                        <td id=\"T_8ff4b_row1_col6\" class=\"data row1 col6\" >Different</td>\n",
       "            </tr>\n",
       "            <tr>\n",
       "                        <th id=\"T_8ff4b_level0_row2\" class=\"row_heading level0 row2\" >2</th>\n",
       "                        <td id=\"T_8ff4b_row2_col0\" class=\"data row2 col0\" >gender</td>\n",
       "                        <td id=\"T_8ff4b_row2_col1\" class=\"data row2 col1\" >bmi</td>\n",
       "                        <td id=\"T_8ff4b_row2_col2\" class=\"data row2 col2\" >0.050000</td>\n",
       "                        <td id=\"T_8ff4b_row2_col3\" class=\"data row2 col3\" >-1.921000</td>\n",
       "                        <td id=\"T_8ff4b_row2_col4\" class=\"data row2 col4\" >0.054780</td>\n",
       "                        <td id=\"T_8ff4b_row2_col5\" class=\"data row2 col5\" >Fail to reject</td>\n",
       "                        <td id=\"T_8ff4b_row2_col6\" class=\"data row2 col6\" >Same</td>\n",
       "            </tr>\n",
       "    </tbody></table>"
      ],
      "text/plain": [
       "<pandas.io.formats.style.Styler at 0x1c48543bb20>"
      ]
     },
     "execution_count": 71,
     "metadata": {},
     "output_type": "execute_result"
    }
   ],
   "source": [
    "t_test_df = pd.DataFrame(columns=['cat_feat', 'num_feat', 'alpha', 't', 'p'])\n",
    "\n",
    "for feature in num_features:\n",
    "    t, p = stats.ttest_ind(df.loc[df.gender=='Male', feature],\n",
    "                            df.loc[df.gender=='Female', feature],\n",
    "                            equal_var=False)\n",
    "    t, p = round(t, 3), round(p, 5)\n",
    "    t_test_df = t_test_df.append({'cat_feat': 'gender', 'num_feat': feature,\n",
    "                    'alpha': ALPHA, 't': t, 'p': p}, ignore_index=True)\n",
    "\n",
    "t_test_df['H0'] = t_test_df.p.apply(lambda x: 'Rejected' if x <= ALPHA else 'Fail to reject')\n",
    "t_test_df['relation'] = t_test_df.H0.apply(lambda x: 'Different' if x =='Rejected' else 'Same')\n",
    "\n",
    "def color_fail_to_rej(value):\n",
    "    if value in ('Fail to reject', 'Same'):\n",
    "        return 'color:green'\n",
    "    else:\n",
    "        return 'cmap: Blues'\n",
    "    \n",
    "t_test_df.style.background_gradient(cmap = 'Blues').applymap(color_fail_to_rej)"
   ]
  },
  {
   "cell_type": "code",
   "execution_count": 64,
   "metadata": {},
   "outputs": [
    {
     "data": {
      "text/html": [
       "<style  type=\"text/css\" >\n",
       "#T_84b89_row0_col2,#T_84b89_row0_col3,#T_84b89_row0_col4,#T_84b89_row1_col2,#T_84b89_row1_col4,#T_84b89_row2_col2{\n",
       "            background-color:  #f7fbff;\n",
       "            color:  #000000;\n",
       "        }#T_84b89_row1_col3{\n",
       "            background-color:  #0a549e;\n",
       "            color:  #f1f1f1;\n",
       "        }#T_84b89_row2_col3,#T_84b89_row2_col4{\n",
       "            background-color:  #08306b;\n",
       "            color:  #f1f1f1;\n",
       "        }</style><table id=\"T_84b89_\" ><thead>    <tr>        <th class=\"blank level0\" ></th>        <th class=\"col_heading level0 col0\" >cat_feat</th>        <th class=\"col_heading level0 col1\" >num_feat</th>        <th class=\"col_heading level0 col2\" >alpha</th>        <th class=\"col_heading level0 col3\" >t</th>        <th class=\"col_heading level0 col4\" >p</th>        <th class=\"col_heading level0 col5\" >H0</th>        <th class=\"col_heading level0 col6\" >relation</th>    </tr></thead><tbody>\n",
       "                <tr>\n",
       "                        <th id=\"T_84b89_level0_row0\" class=\"row_heading level0 row0\" >0</th>\n",
       "                        <td id=\"T_84b89_row0_col0\" class=\"data row0 col0\" >stroke</td>\n",
       "                        <td id=\"T_84b89_row0_col1\" class=\"data row0 col1\" >age</td>\n",
       "                        <td id=\"T_84b89_row0_col2\" class=\"data row0 col2\" >0.050000</td>\n",
       "                        <td id=\"T_84b89_row0_col3\" class=\"data row0 col3\" >-29.682000</td>\n",
       "                        <td id=\"T_84b89_row0_col4\" class=\"data row0 col4\" >0.000000</td>\n",
       "                        <td id=\"T_84b89_row0_col5\" class=\"data row0 col5\" >Rejected</td>\n",
       "                        <td id=\"T_84b89_row0_col6\" class=\"data row0 col6\" >Different</td>\n",
       "            </tr>\n",
       "            <tr>\n",
       "                        <th id=\"T_84b89_level0_row1\" class=\"row_heading level0 row1\" >1</th>\n",
       "                        <td id=\"T_84b89_row1_col0\" class=\"data row1 col0\" >stroke</td>\n",
       "                        <td id=\"T_84b89_row1_col1\" class=\"data row1 col1\" >avg_glucose_level</td>\n",
       "                        <td id=\"T_84b89_row1_col2\" class=\"data row1 col2\" >0.050000</td>\n",
       "                        <td id=\"T_84b89_row1_col3\" class=\"data row1 col3\" >-6.984000</td>\n",
       "                        <td id=\"T_84b89_row1_col4\" class=\"data row1 col4\" >0.000000</td>\n",
       "                        <td id=\"T_84b89_row1_col5\" class=\"data row1 col5\" >Rejected</td>\n",
       "                        <td id=\"T_84b89_row1_col6\" class=\"data row1 col6\" >Different</td>\n",
       "            </tr>\n",
       "            <tr>\n",
       "                        <th id=\"T_84b89_level0_row2\" class=\"row_heading level0 row2\" >2</th>\n",
       "                        <td id=\"T_84b89_row2_col0\" class=\"data row2 col0\" >stroke</td>\n",
       "                        <td id=\"T_84b89_row2_col1\" class=\"data row2 col1\" >bmi</td>\n",
       "                        <td id=\"T_84b89_row2_col2\" class=\"data row2 col2\" >0.050000</td>\n",
       "                        <td id=\"T_84b89_row2_col3\" class=\"data row2 col3\" >-3.326000</td>\n",
       "                        <td id=\"T_84b89_row2_col4\" class=\"data row2 col4\" >0.000990</td>\n",
       "                        <td id=\"T_84b89_row2_col5\" class=\"data row2 col5\" >Rejected</td>\n",
       "                        <td id=\"T_84b89_row2_col6\" class=\"data row2 col6\" >Different</td>\n",
       "            </tr>\n",
       "    </tbody></table>"
      ],
      "text/plain": [
       "<pandas.io.formats.style.Styler at 0x1c4854771c0>"
      ]
     },
     "execution_count": 64,
     "metadata": {},
     "output_type": "execute_result"
    }
   ],
   "source": [
    "t_test_df = pd.DataFrame(columns=['cat_feat', 'num_feat', 'alpha', 't', 'p'])\n",
    "\n",
    "for feature in num_features:\n",
    "    t, p = stats.ttest_ind(df.loc[df.stroke==0, feature],\n",
    "                            df.loc[df.stroke==1, feature],\n",
    "                            equal_var=False)\n",
    "    t, p = round(t, 3), round(p, 5)\n",
    "    t_test_df = t_test_df.append({'cat_feat': 'stroke', 'num_feat': feature,\n",
    "                    'alpha': ALPHA, 't': t, 'p': p}, ignore_index=True)\n",
    "\n",
    "t_test_df['H0'] = t_test_df.p.apply(lambda x: 'Rejected' if x <= ALPHA else 'Fail to reject')\n",
    "t_test_df['relation'] = t_test_df.H0.apply(lambda x: 'Different' if x =='Rejected' else 'Same')\n",
    "t_test_df.style.style.background_gradient(cmap = 'Blues').applymap(color_fail_to_rej)"
   ]
  },
  {
   "cell_type": "markdown",
   "metadata": {},
   "source": [
    "## One-way ANOVA tests"
   ]
  },
  {
   "cell_type": "code",
   "execution_count": 38,
   "metadata": {},
   "outputs": [
    {
     "data": {
      "text/plain": [
       "smoking_status\n",
       "Unknown            [59.0, 78.0, 57.0, 82.0, 58.0, 42.0, 75.0, 76....\n",
       "formerly smoked    [67.0, 81.0, 71.0, 65.0, 59.0, 80.0, 82.0, 74....\n",
       "never smoked       [61.0, 80.0, 79.0, 74.0, 69.0, 81.0, 50.0, 60....\n",
       "smokes             [49.0, 61.0, 54.0, 64.0, 75.0, 71.0, 69.0, 57....\n",
       "Name: age, dtype: object"
      ]
     },
     "execution_count": 38,
     "metadata": {},
     "output_type": "execute_result"
    }
   ],
   "source": [
    "smoking_age_group = df.groupby('smoking_status')['age'].unique()\n",
    "smoking_age_group"
   ]
  },
  {
   "cell_type": "code",
   "execution_count": 39,
   "metadata": {},
   "outputs": [
    {
     "name": "stdout",
     "output_type": "stream",
     "text": [
      "Since p = 3e-05 < 0.05, reject H0, different Age distributions among different smoking_status (F=-3.326, p=3e-05)\n"
     ]
    }
   ],
   "source": [
    "f_statistic, p = stats.f_oneway(*smoking_age_group)\n",
    "f_statistic, p = round(t, 5), round(p, 5)\n",
    "\n",
    "if p <= ALPHA:\n",
    "    print(f'Since p = {p} < {ALPHA}, reject H0, different Age distributions among different smoking_status (F={f_statistic}, p={p})')\n",
    "else:\n",
    "    print(f'Since p = {p} > {ALPHA}, fail to reject H0, same Age distributions among different smoking_status (F={f_statistic}, p={p}).')"
   ]
  },
  {
   "cell_type": "code",
   "execution_count": 40,
   "metadata": {},
   "outputs": [
    {
     "name": "stdout",
     "output_type": "stream",
     "text": [
      "Since p = 0.0 < 0.05, reject H0, different Age distributions among different bmi_range (F=-3.326, p=0.0)\n"
     ]
    }
   ],
   "source": [
    "bmi_range_group = df.groupby('bmi_range')['age'].unique()\n",
    "f_statistic, p = stats.f_oneway(*bmi_range_group)\n",
    "f_statistic, p = round(t, 5), round(p, 5)\n",
    "\n",
    "if p <= ALPHA:\n",
    "    print(f'Since p = {p} < {ALPHA}, reject H0, different Age distributions among different bmi_range (F={f_statistic}, p={p})')\n",
    "else:\n",
    "    print(f'Since p = {p} > {ALPHA}, fail to reject H0, same Age distributions among different bmi_range (F={f_statistic}, p={p}).')"
   ]
  },
  {
   "cell_type": "markdown",
   "metadata": {},
   "source": [
    "**Conclusion**\n",
    "\n",
    "- For the important parts, only `Male` and `Female` has similar distribution in terms of the mean values of `age` and `bmi`.\n",
    "- With respect to `stroke`, all the numerical features have different distributions."
   ]
  },
  {
   "cell_type": "markdown",
   "metadata": {},
   "source": [
    "# Summary of Relationship between Categorical and Numerical Features"
   ]
  },
  {
   "cell_type": "code",
   "execution_count": 41,
   "metadata": {},
   "outputs": [],
   "source": [
    "from sklearn import feature_selection"
   ]
  },
  {
   "cell_type": "code",
   "execution_count": 65,
   "metadata": {},
   "outputs": [
    {
     "data": {
      "text/html": [
       "<style  type=\"text/css\" >\n",
       "#T_eb3eb_row0_col0,#T_eb3eb_row0_col1,#T_eb3eb_row0_col5,#T_eb3eb_row0_col6,#T_eb3eb_row1_col0,#T_eb3eb_row1_col1,#T_eb3eb_row1_col5,#T_eb3eb_row1_col6,#T_eb3eb_row2_col0,#T_eb3eb_row2_col1{\n",
       "            cmap:  Blues;\n",
       "        }#T_eb3eb_row0_col2{\n",
       "            background-color:  #f2f7fd;\n",
       "            color:  #000000;\n",
       "            cmap:  Blues;\n",
       "        }#T_eb3eb_row0_col3{\n",
       "            background-color:  #1562a9;\n",
       "            color:  #f1f1f1;\n",
       "            cmap:  Blues;\n",
       "        }#T_eb3eb_row0_col4,#T_eb3eb_row1_col3,#T_eb3eb_row1_col4,#T_eb3eb_row2_col2,#T_eb3eb_row2_col4{\n",
       "            background-color:  #f7fbff;\n",
       "            color:  #000000;\n",
       "            cmap:  Blues;\n",
       "        }#T_eb3eb_row1_col2,#T_eb3eb_row2_col3{\n",
       "            background-color:  #08306b;\n",
       "            color:  #f1f1f1;\n",
       "            cmap:  Blues;\n",
       "        }#T_eb3eb_row2_col5,#T_eb3eb_row2_col6{\n",
       "            color: green;\n",
       "        }</style><table id=\"T_eb3eb_\" ><thead>    <tr>        <th class=\"blank level0\" ></th>        <th class=\"col_heading level0 col0\" >cat-attr</th>        <th class=\"col_heading level0 col1\" >cont-attr</th>        <th class=\"col_heading level0 col2\" >f</th>        <th class=\"col_heading level0 col3\" >p</th>        <th class=\"col_heading level0 col4\" >alpha</th>        <th class=\"col_heading level0 col5\" >H0</th>        <th class=\"col_heading level0 col6\" >relation</th>    </tr></thead><tbody>\n",
       "                <tr>\n",
       "                        <th id=\"T_eb3eb_level0_row0\" class=\"row_heading level0 row0\" >0</th>\n",
       "                        <td id=\"T_eb3eb_row0_col0\" class=\"data row0 col0\" >gender</td>\n",
       "                        <td id=\"T_eb3eb_row0_col1\" class=\"data row0 col1\" >age</td>\n",
       "                        <td id=\"T_eb3eb_row0_col2\" class=\"data row0 col2\" >3.936000</td>\n",
       "                        <td id=\"T_eb3eb_row0_col3\" class=\"data row0 col3\" >0.047310</td>\n",
       "                        <td id=\"T_eb3eb_row0_col4\" class=\"data row0 col4\" >0.050000</td>\n",
       "                        <td id=\"T_eb3eb_row0_col5\" class=\"data row0 col5\" >Rejected</td>\n",
       "                        <td id=\"T_eb3eb_row0_col6\" class=\"data row0 col6\" >Different</td>\n",
       "            </tr>\n",
       "            <tr>\n",
       "                        <th id=\"T_eb3eb_level0_row1\" class=\"row_heading level0 row1\" >1</th>\n",
       "                        <td id=\"T_eb3eb_row1_col0\" class=\"data row1 col0\" >gender</td>\n",
       "                        <td id=\"T_eb3eb_row1_col1\" class=\"data row1 col1\" >avg_glucose_level</td>\n",
       "                        <td id=\"T_eb3eb_row1_col2\" class=\"data row1 col2\" >15.339000</td>\n",
       "                        <td id=\"T_eb3eb_row1_col3\" class=\"data row1 col3\" >0.000090</td>\n",
       "                        <td id=\"T_eb3eb_row1_col4\" class=\"data row1 col4\" >0.050000</td>\n",
       "                        <td id=\"T_eb3eb_row1_col5\" class=\"data row1 col5\" >Rejected</td>\n",
       "                        <td id=\"T_eb3eb_row1_col6\" class=\"data row1 col6\" >Different</td>\n",
       "            </tr>\n",
       "            <tr>\n",
       "                        <th id=\"T_eb3eb_level0_row2\" class=\"row_heading level0 row2\" >2</th>\n",
       "                        <td id=\"T_eb3eb_row2_col0\" class=\"data row2 col0\" >gender</td>\n",
       "                        <td id=\"T_eb3eb_row2_col1\" class=\"data row2 col1\" >bmi</td>\n",
       "                        <td id=\"T_eb3eb_row2_col2\" class=\"data row2 col2\" >3.576000</td>\n",
       "                        <td id=\"T_eb3eb_row2_col3\" class=\"data row2 col3\" >0.058680</td>\n",
       "                        <td id=\"T_eb3eb_row2_col4\" class=\"data row2 col4\" >0.050000</td>\n",
       "                        <td id=\"T_eb3eb_row2_col5\" class=\"data row2 col5\" >Fail to reject</td>\n",
       "                        <td id=\"T_eb3eb_row2_col6\" class=\"data row2 col6\" >Same</td>\n",
       "            </tr>\n",
       "    </tbody></table>"
      ],
      "text/plain": [
       "<pandas.io.formats.style.Styler at 0x1c48544fa60>"
      ]
     },
     "execution_count": 65,
     "metadata": {},
     "output_type": "execute_result"
    }
   ],
   "source": [
    "f, p = feature_selection.f_classif(df.loc[:, 'age': 'bmi'], df.gender)\n",
    "f, p = np.around(f, 3), np.around(p, 5)\n",
    "anova_test_cat = pd.DataFrame({\n",
    "    'cat-attr': 'gender',\n",
    "    'cont-attr': df.loc[:, 'age': 'bmi'].columns,\n",
    "    'f': f, \n",
    "    'p': p,\n",
    "    'alpha': ALPHA\n",
    "})\n",
    "anova_test_cat['H0'] = anova_test_cat.p.apply(lambda x: 'Rejected' if x <= ALPHA else 'Fail to reject')\n",
    "anova_test_cat['relation'] = anova_test_cat.H0.apply(lambda x: 'Different' if x =='Rejected' else 'Same')\n",
    "anova_test_cat.style.background_gradient(cmap = 'Blues').applymap(color_fail_to_rej)"
   ]
  },
  {
   "cell_type": "code",
   "execution_count": 66,
   "metadata": {},
   "outputs": [
    {
     "data": {
      "text/html": [
       "<style  type=\"text/css\" >\n",
       "#T_5d178_row0_col0,#T_5d178_row0_col1,#T_5d178_row0_col5,#T_5d178_row0_col6,#T_5d178_row1_col0,#T_5d178_row1_col1,#T_5d178_row1_col5,#T_5d178_row1_col6,#T_5d178_row2_col0,#T_5d178_row2_col1,#T_5d178_row2_col5,#T_5d178_row2_col6{\n",
       "            cmap:  Blues;\n",
       "        }#T_5d178_row0_col2,#T_5d178_row2_col3{\n",
       "            background-color:  #08306b;\n",
       "            color:  #f1f1f1;\n",
       "            cmap:  Blues;\n",
       "        }#T_5d178_row0_col3,#T_5d178_row0_col4,#T_5d178_row1_col3,#T_5d178_row1_col4,#T_5d178_row2_col2,#T_5d178_row2_col4{\n",
       "            background-color:  #f7fbff;\n",
       "            color:  #000000;\n",
       "            cmap:  Blues;\n",
       "        }#T_5d178_row1_col2{\n",
       "            background-color:  #c2d9ee;\n",
       "            color:  #000000;\n",
       "            cmap:  Blues;\n",
       "        }</style><table id=\"T_5d178_\" ><thead>    <tr>        <th class=\"blank level0\" ></th>        <th class=\"col_heading level0 col0\" >cat-attr</th>        <th class=\"col_heading level0 col1\" >cont-attr</th>        <th class=\"col_heading level0 col2\" >f</th>        <th class=\"col_heading level0 col3\" >p</th>        <th class=\"col_heading level0 col4\" >alpha</th>        <th class=\"col_heading level0 col5\" >H0</th>        <th class=\"col_heading level0 col6\" >relation</th>    </tr></thead><tbody>\n",
       "                <tr>\n",
       "                        <th id=\"T_5d178_level0_row0\" class=\"row_heading level0 row0\" >0</th>\n",
       "                        <td id=\"T_5d178_row0_col0\" class=\"data row0 col0\" >stroke</td>\n",
       "                        <td id=\"T_5d178_row0_col1\" class=\"data row0 col1\" >age</td>\n",
       "                        <td id=\"T_5d178_row0_col2\" class=\"data row0 col2\" >326.800000</td>\n",
       "                        <td id=\"T_5d178_row0_col3\" class=\"data row0 col3\" >0.000000</td>\n",
       "                        <td id=\"T_5d178_row0_col4\" class=\"data row0 col4\" >0.050000</td>\n",
       "                        <td id=\"T_5d178_row0_col5\" class=\"data row0 col5\" >Rejected</td>\n",
       "                        <td id=\"T_5d178_row0_col6\" class=\"data row0 col6\" >Different</td>\n",
       "            </tr>\n",
       "            <tr>\n",
       "                        <th id=\"T_5d178_level0_row1\" class=\"row_heading level0 row1\" >1</th>\n",
       "                        <td id=\"T_5d178_row1_col0\" class=\"data row1 col0\" >stroke</td>\n",
       "                        <td id=\"T_5d178_row1_col1\" class=\"data row1 col1\" >avg_glucose_level</td>\n",
       "                        <td id=\"T_5d178_row1_col2\" class=\"data row1 col2\" >90.550000</td>\n",
       "                        <td id=\"T_5d178_row1_col3\" class=\"data row1 col3\" >0.000000</td>\n",
       "                        <td id=\"T_5d178_row1_col4\" class=\"data row1 col4\" >0.050000</td>\n",
       "                        <td id=\"T_5d178_row1_col5\" class=\"data row1 col5\" >Rejected</td>\n",
       "                        <td id=\"T_5d178_row1_col6\" class=\"data row1 col6\" >Different</td>\n",
       "            </tr>\n",
       "            <tr>\n",
       "                        <th id=\"T_5d178_level0_row2\" class=\"row_heading level0 row2\" >2</th>\n",
       "                        <td id=\"T_5d178_row2_col0\" class=\"data row2 col0\" >stroke</td>\n",
       "                        <td id=\"T_5d178_row2_col1\" class=\"data row2 col1\" >bmi</td>\n",
       "                        <td id=\"T_5d178_row2_col2\" class=\"data row2 col2\" >6.655000</td>\n",
       "                        <td id=\"T_5d178_row2_col3\" class=\"data row2 col3\" >0.009910</td>\n",
       "                        <td id=\"T_5d178_row2_col4\" class=\"data row2 col4\" >0.050000</td>\n",
       "                        <td id=\"T_5d178_row2_col5\" class=\"data row2 col5\" >Rejected</td>\n",
       "                        <td id=\"T_5d178_row2_col6\" class=\"data row2 col6\" >Different</td>\n",
       "            </tr>\n",
       "    </tbody></table>"
      ],
      "text/plain": [
       "<pandas.io.formats.style.Styler at 0x1c485478fa0>"
      ]
     },
     "execution_count": 66,
     "metadata": {},
     "output_type": "execute_result"
    }
   ],
   "source": [
    "f, p = feature_selection.f_classif(df.loc[:, 'age': 'bmi'], df.stroke)\n",
    "f, p = np.around(f, 3), np.around(p, 5)\n",
    "anova_test_cat = pd.DataFrame({\n",
    "    'cat-attr': 'stroke',\n",
    "    'cont-attr': df.loc[:, 'age': 'bmi'].columns,\n",
    "    'f': f, \n",
    "    'p': p,\n",
    "    'alpha': ALPHA\n",
    "})\n",
    "anova_test_cat['H0'] = anova_test_cat.p.apply(lambda x: 'Rejected' if x <= ALPHA else 'Fail to reject')\n",
    "anova_test_cat['relation'] = anova_test_cat.H0.apply(lambda x: 'Different' if x =='Rejected' else 'Same')\n",
    "anova_test_cat.style.background_gradient(cmap = 'Blues').applymap(color_fail_to_rej)"
   ]
  },
  {
   "cell_type": "markdown",
   "metadata": {},
   "source": [
    "**Conclusion**\n",
    "\n",
    "\n",
    "- The ANOVA test results are the same with the t-test results, with little difference between the p-values.\n",
    "- But it is summarized clearly in table forms here, where **only** the distributions of `gender` and `bmi` are the same."
   ]
  },
  {
   "cell_type": "code",
   "execution_count": null,
   "metadata": {},
   "outputs": [],
   "source": []
  }
 ],
 "metadata": {
  "kernelspec": {
   "display_name": "Python 3",
   "language": "python",
   "name": "python3"
  },
  "language_info": {
   "codemirror_mode": {
    "name": "ipython",
    "version": 3
   },
   "file_extension": ".py",
   "mimetype": "text/x-python",
   "name": "python",
   "nbconvert_exporter": "python",
   "pygments_lexer": "ipython3",
   "version": "3.8.8"
  }
 },
 "nbformat": 4,
 "nbformat_minor": 4
}
